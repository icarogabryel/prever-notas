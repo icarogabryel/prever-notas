{
 "cells": [
  {
   "cell_type": "code",
   "execution_count": 4,
   "id": "39bd94e1",
   "metadata": {},
   "outputs": [],
   "source": [
    "import pandas as pd\n",
    "\n",
    "df = pd.read_csv('dados/notas_pivoteadas.csv')"
   ]
  },
  {
   "cell_type": "code",
   "execution_count": 5,
   "id": "99e92e78",
   "metadata": {},
   "outputs": [
    {
     "data": {
      "text/plain": [
       "0.6169555555555579"
      ]
     },
     "execution_count": 5,
     "metadata": {},
     "output_type": "execute_result"
    }
   ],
   "source": [
    "from sklearn.model_selection import train_test_split\n",
    "from sklearn.ensemble import RandomForestRegressor\n",
    "from sklearn.metrics import mean_absolute_error\n",
    "\n",
    "x = df[\n",
    "[    'PROGRAMAÇÃO ESTRUTURADA',\n",
    "    'INTRODUÇÃO À LÓGICA',\n",
    "    'INGLÊS TÉCNICO E CIENTÍFICO',\n",
    "    'INFORMÁTICA E SOCIEDADE',\n",
    "    'CÁLCULO DIFERENCIAL E INTEGRAL I',\n",
    "    'INTRODUÇÃO À METODOLOGIA CIENTÍFICA']\n",
    "]\n",
    "y = df[\n",
    "[    'CÁLCULO DIFERENCIAL E INTEGRAL II',\n",
    "    'CIRCUITOS DIGITAIS',\n",
    "    'ESTRUTURAS DE DADOS',\n",
    "    'LABORATÓRIO DE PROGRAMAÇÃO',\n",
    "    'MATEMÁTICA DISCRETA',\n",
    "    'PROGRAMAÇÃO ORIENTADA A OBJETOS',]\n",
    "]\n",
    "\n",
    "dados = pd.concat([x, y], axis=1).dropna()\n",
    "x = dados[x.columns]\n",
    "y = dados[y.columns]\n",
    "\n",
    "x_train, x_test, y_train, y_test = train_test_split(x, y, test_size=0.2, random_state=42)\n",
    "\n",
    "model = RandomForestRegressor()\n",
    "model.fit(x_train, y_train)\n",
    "\n",
    "y_pred = model.predict(x_test)\n",
    "mean_absolute_error(y_test, y_pred)\n"
   ]
  },
  {
   "cell_type": "code",
   "execution_count": null,
   "id": "110d12c9",
   "metadata": {},
   "outputs": [
    {
     "name": "stdout",
     "output_type": "stream",
     "text": [
      "Precisão para CÁLCULO DIFERENCIAL E INTEGRAL II: 0.6332666666666678\n",
      "Notas reais: [9.26666667 8.13333333 8.5        6.23333333 8.13333333]\n",
      "Notas previ: [8.787      8.13333333 8.606      8.814      8.13333333]\n",
      "\n",
      "Precisão para CIRCUITOS DIGITAIS: 0.26133333333333475\n",
      "Notas reais: [9.03333333 7.5        9.83333333 8.53333333 7.5       ]\n",
      "Notas previ: [9.05166667 7.5        8.926      8.91433333 7.5       ]\n",
      "\n",
      "Precisão para ESTRUTURAS DE DADOS: 0.6214666666666696\n",
      "Notas reais: [8.9        8.03333333 8.93333333 5.96666667 8.03333333]\n",
      "Notas previ: [8.96       8.03333333 8.61466667 8.69533333 8.03333333]\n",
      "\n",
      "Precisão para LABORATÓRIO DE PROGRAMAÇÃO: 0.6488666666666736\n",
      "Notas reais: [9.43333333 9.2        9.43333333 7.8        9.2       ]\n",
      "Notas previ: [8.61166667 9.2        7.68433333 8.47366667 9.2       ]\n",
      "\n",
      "Precisão para MATEMÁTICA DISCRETA: 0.07566666666666304\n",
      "Notas reais: [7.33333333 7.         7.33333333 7.66666667 7.        ]\n",
      "Notas previ: [7.31       7.         7.31333333 7.33166667 7.        ]\n",
      "\n",
      "Precisão para PROGRAMAÇÃO ORIENTADA A OBJETOS: 1.4611333333333387\n",
      "Notas reais: [10.          9.16666667 10.          6.13333333  9.16666667]\n",
      "Notas previ: [8.55366667 9.16666667 6.58766667 8.58033333 9.16666667]\n",
      "\n",
      "aaa17\n",
      "bbb5\n"
     ]
    }
   ],
   "source": [
    "# ver precisao e notas reais\n",
    "for i, col in enumerate(y.columns):\n",
    "    print(f'Precisão para {col}: {mean_absolute_error(y_test[col], y_pred[:, i])}')\n",
    "    print(f'Notas reais: {y_test[col].values[:5]}')\n",
    "    print(f'Notas previ: {y_pred[:, i][:5]}')\n",
    "    print()"
   ]
  },
  {
   "cell_type": "code",
   "execution_count": 7,
   "id": "ccc392cb",
   "metadata": {},
   "outputs": [
    {
     "name": "stdout",
     "output_type": "stream",
     "text": [
      "MAE em cada fold: [0.69742222 0.62818889 0.08311111 0.44483333 0.39920833]\n",
      "MAE médio: 0.45\n"
     ]
    }
   ],
   "source": [
    "from sklearn.model_selection import cross_val_score, KFold\n",
    "from sklearn.multioutput import MultiOutputRegressor\n",
    "\n",
    "# ...carregue e prepare x e y como já está no seu código...\n",
    "\n",
    "model = MultiOutputRegressor(RandomForestRegressor())\n",
    "\n",
    "# KFold com 5 divisões\n",
    "kf = KFold(n_splits=5, shuffle=True, random_state=42)\n",
    "\n",
    "# cross_val_score retorna scores negativos para erro, por isso usamos 'neg_mean_absolute_error'\n",
    "scores = cross_val_score(model, x, y, cv=kf, scoring='neg_mean_absolute_error')\n",
    "\n",
    "# Como os scores são negativos, inverta o sinal para obter o MAE positivo\n",
    "mae_scores = -scores\n",
    "\n",
    "print(f'MAE em cada fold: {mae_scores}')\n",
    "print(f'MAE médio: {mae_scores.mean():.2f}')"
   ]
  }
 ],
 "metadata": {
  "kernelspec": {
   "display_name": ".env",
   "language": "python",
   "name": "python3"
  },
  "language_info": {
   "codemirror_mode": {
    "name": "ipython",
    "version": 3
   },
   "file_extension": ".py",
   "mimetype": "text/x-python",
   "name": "python",
   "nbconvert_exporter": "python",
   "pygments_lexer": "ipython3",
   "version": "3.13.2"
  }
 },
 "nbformat": 4,
 "nbformat_minor": 5
}
