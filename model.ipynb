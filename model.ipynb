{
 "cells": [
  {
   "cell_type": "code",
   "execution_count": 2,
   "id": "39bd94e1",
   "metadata": {},
   "outputs": [],
   "source": [
    "import pandas as pd\n",
    "\n",
    "df = pd.read_csv('dados/notas_pivoteadas.csv')"
   ]
  },
  {
   "cell_type": "code",
   "execution_count": 3,
   "id": "99e92e78",
   "metadata": {},
   "outputs": [
    {
     "data": {
      "text/plain": [
       "0.630822222222225"
      ]
     },
     "execution_count": 3,
     "metadata": {},
     "output_type": "execute_result"
    }
   ],
   "source": [
    "from sklearn.model_selection import train_test_split\n",
    "from sklearn.ensemble import RandomForestRegressor\n",
    "from sklearn.metrics import mean_absolute_error\n",
    "\n",
    "x = df[\n",
    "[    'PROGRAMAÇÃO ESTRUTURADA',\n",
    "    'INTRODUÇÃO À LÓGICA',\n",
    "    'INGLÊS TÉCNICO E CIENTÍFICO',\n",
    "    'INFORMÁTICA E SOCIEDADE',\n",
    "    'CÁLCULO DIFERENCIAL E INTEGRAL I',\n",
    "    'INTRODUÇÃO À METODOLOGIA CIENTÍFICA']\n",
    "]\n",
    "y = df[\n",
    "[    'CÁLCULO DIFERENCIAL E INTEGRAL II',\n",
    "    'CIRCUITOS DIGITAIS',\n",
    "    'ESTRUTURAS DE DADOS',\n",
    "    'LABORATÓRIO DE PROGRAMAÇÃO',\n",
    "    'MATEMÁTICA DISCRETA',\n",
    "    'PROGRAMAÇÃO ORIENTADA A OBJETOS',]\n",
    "]\n",
    "\n",
    "dados = pd.concat([x, y], axis=1).dropna()\n",
    "x = dados[x.columns]\n",
    "y = dados[y.columns]\n",
    "\n",
    "x_train, x_test, y_train, y_test = train_test_split(x, y, test_size=0.2, random_state=42)\n",
    "\n",
    "model = RandomForestRegressor()\n",
    "model.fit(x_train, y_train)\n",
    "\n",
    "y_pred = model.predict(x_test)\n",
    "mean_absolute_error(y_test, y_pred)\n"
   ]
  },
  {
   "cell_type": "code",
   "execution_count": 4,
   "id": "110d12c9",
   "metadata": {},
   "outputs": [
    {
     "name": "stdout",
     "output_type": "stream",
     "text": [
      "Precisão para CÁLCULO DIFERENCIAL E INTEGRAL II: 0.6391333333333356\n",
      "Notas reais: [9.26666667 8.13333333 8.5        6.23333333 8.13333333]\n",
      "Notas previ: [8.908      8.13333333 8.62       8.95033333 8.13333333]\n",
      "\n",
      "Precisão para CIRCUITOS DIGITAIS: 0.3384000000000018\n",
      "Notas reais: [9.03333333 7.5        9.83333333 8.53333333 7.5       ]\n",
      "Notas previ: [9.148      7.5        8.814      9.09133333 7.5       ]\n",
      "\n",
      "Precisão para ESTRUTURAS DE DADOS: 0.6616666666666697\n",
      "Notas reais: [8.9        8.03333333 8.93333333 5.96666667 8.03333333]\n",
      "Notas previ: [9.00433333 8.03333333 8.48233333 8.71966667 8.03333333]\n",
      "\n",
      "Precisão para LABORATÓRIO DE PROGRAMAÇÃO: 0.6286666666666723\n",
      "Notas reais: [9.43333333 9.2        9.43333333 7.8        9.2       ]\n",
      "Notas previ: [8.746      9.2        7.628      8.45066667 9.2       ]\n",
      "\n",
      "Precisão para MATEMÁTICA DISCRETA: 0.06633333333333233\n",
      "Notas reais: [7.33333333 7.         7.33333333 7.66666667 7.        ]\n",
      "Notas previ: [7.335      7.         7.31166667 7.35833333 7.        ]\n",
      "\n",
      "Precisão para PROGRAMAÇÃO ORIENTADA A OBJETOS: 1.450733333333338\n",
      "Notas reais: [10.          9.16666667 10.          6.13333333  9.16666667]\n",
      "Notas previ: [8.562      9.16666667 6.66133333 8.61033333 9.16666667]\n",
      "\n"
     ]
    }
   ],
   "source": [
    "# ver precisao e notas reais\n",
    "for i, col in enumerate(y.columns):\n",
    "    print(f'Precisão para {col}: {mean_absolute_error(y_test[col], y_pred[:, i])}')\n",
    "    print(f'Notas reais: {y_test[col].values[:5]}')\n",
    "    print(f'Notas previ: {y_pred[:, i][:5]}')\n",
    "    print()"
   ]
  },
  {
   "cell_type": "code",
   "execution_count": 5,
   "id": "ccc392cb",
   "metadata": {},
   "outputs": [
    {
     "name": "stdout",
     "output_type": "stream",
     "text": [
      "MAE em cada fold: [0.67863333 0.66366667 0.07452778 0.42170833 0.41248611]\n",
      "MAE médio: 0.45\n"
     ]
    }
   ],
   "source": [
    "from sklearn.model_selection import cross_val_score, KFold\n",
    "from sklearn.multioutput import MultiOutputRegressor\n",
    "\n",
    "# ...carregue e prepare x e y como já está no seu código...\n",
    "\n",
    "model = MultiOutputRegressor(RandomForestRegressor())\n",
    "\n",
    "# KFold com 5 divisões\n",
    "kf = KFold(n_splits=5, shuffle=True, random_state=42)\n",
    "\n",
    "# cross_val_score retorna scores negativos para erro, por isso usamos 'neg_mean_absolute_error'\n",
    "scores = cross_val_score(model, x, y, cv=kf, scoring='neg_mean_absolute_error')\n",
    "\n",
    "# Como os scores são negativos, inverta o sinal para obter o MAE positivo\n",
    "mae_scores = -scores\n",
    "\n",
    "print(f'MAE em cada fold: {mae_scores}')\n",
    "print(f'MAE médio: {mae_scores.mean():.2f}')"
   ]
  },
  {
   "cell_type": "code",
   "execution_count": 6,
   "id": "367ed5cf",
   "metadata": {},
   "outputs": [
    {
     "data": {
      "text/plain": [
       "0.6268555555555578"
      ]
     },
     "execution_count": 6,
     "metadata": {},
     "output_type": "execute_result"
    }
   ],
   "source": [
    "x = df[[\n",
    "    'PROGRAMAÇÃO ESTRUTURADA',\n",
    "    'INTRODUÇÃO À LÓGICA',\n",
    "    'INGLÊS TÉCNICO E CIENTÍFICO',\n",
    "    'INFORMÁTICA E SOCIEDADE',\n",
    "    'CÁLCULO DIFERENCIAL E INTEGRAL I',\n",
    "    'INTRODUÇÃO À METODOLOGIA CIENTÍFICA',\n",
    "    'CÁLCULO DIFERENCIAL E INTEGRAL II',\n",
    "    'CIRCUITOS DIGITAIS',\n",
    "    'ESTRUTURAS DE DADOS',\n",
    "    'LABORATÓRIO DE PROGRAMAÇÃO',\n",
    "    'MATEMÁTICA DISCRETA',\n",
    "    'PROGRAMAÇÃO ORIENTADA A OBJETOS'\n",
    "]]\n",
    "\n",
    "y = df[[\n",
    "    'ÁLGEBRA LINEAR',\n",
    "    'ARQUITETURA DE COMPUTADORES',\n",
    "    'PROBABILIDADE E ESTATÍSTICA',\n",
    "    'BANCO DE DADOS',\n",
    "    'INTERFACE HUMANO COMPUTADOR',\n",
    "    'PROCESSAMENTO DIGITAL DE IMAGENS',\n",
    "]]\n",
    "\n",
    "dados = pd.concat([x, y], axis=1).dropna()\n",
    "x = dados[x.columns]\n",
    "y = dados[y.columns]\n",
    "\n",
    "x_train, x_test, y_train, y_test = train_test_split(x, y, test_size=0.2, random_state=42)\n",
    "\n",
    "model = RandomForestRegressor()\n",
    "model.fit(x_train, y_train)\n",
    "\n",
    "y_pred = model.predict(x_test)\n",
    "mean_absolute_error(y_test, y_pred)"
   ]
  },
  {
   "cell_type": "code",
   "execution_count": 7,
   "id": "cc71130d",
   "metadata": {},
   "outputs": [
    {
     "name": "stdout",
     "output_type": "stream",
     "text": [
      "Precisão para ÁLGEBRA LINEAR: 0.6285333333333389\n",
      "Notas reais: [7.5        8.26666667 7.16666667 7.         8.26666667]\n",
      "Notas previ: [5.526      8.26666667 7.649      6.31366667 8.26666667]\n",
      "\n",
      "Precisão para ARQUITETURA DE COMPUTADORES: 1.9384666666666668\n",
      "Notas reais: [2.33333333 7.         2.33333333 7.06666667 7.        ]\n",
      "Notas previ: [6.68333333 7.         6.81533333 6.20633333 7.        ]\n",
      "\n",
      "Precisão para PROBABILIDADE E ESTATÍSTICA: 0.6644666666666673\n",
      "Notas reais: [9.1        5.8        8.76666667 7.         5.8       ]\n",
      "Notas previ: [8.33133333 5.8        6.446      7.233      5.8       ]\n",
      "\n",
      "Precisão para BANCO DE DADOS: 0.12400000000000481\n",
      "Notas reais: [9.66666667 9.83333333 9.66666667 9.16666667 9.83333333]\n",
      "Notas previ: [9.44333333 9.83333333 9.65       9.54666667 9.83333333]\n",
      "\n",
      "Precisão para INTERFACE HUMANO COMPUTADOR: 0.29480000000000073\n",
      "Notas reais: [9.7        8.03333333 9.66666667 8.5        8.03333333]\n",
      "Notas previ: [9.26233333 8.03333333 9.31033333 9.18       8.03333333]\n",
      "\n",
      "Precisão para PROCESSAMENTO DIGITAL DE IMAGENS: 0.11086666666666875\n",
      "Notas reais: [7.96666667 7.33333333 7.73333333 7.13333333 7.33333333]\n",
      "Notas previ: [7.937      7.33333333 7.68833333 7.613      7.33333333]\n",
      "\n"
     ]
    }
   ],
   "source": [
    "# ver precisao e notas reais\n",
    "for i, col in enumerate(y.columns):\n",
    "    print(f'Precisão para {col}: {mean_absolute_error(y_test[col], y_pred[:, i])}')\n",
    "    print(f'Notas reais: {y_test[col].values[:5]}')\n",
    "    print(f'Notas previ: {y_pred[:, i][:5]}')\n",
    "    print()"
   ]
  }
 ],
 "metadata": {
  "kernelspec": {
   "display_name": ".env",
   "language": "python",
   "name": "python3"
  },
  "language_info": {
   "codemirror_mode": {
    "name": "ipython",
    "version": 3
   },
   "file_extension": ".py",
   "mimetype": "text/x-python",
   "name": "python",
   "nbconvert_exporter": "python",
   "pygments_lexer": "ipython3",
   "version": "3.13.2"
  }
 },
 "nbformat": 4,
 "nbformat_minor": 5
}
